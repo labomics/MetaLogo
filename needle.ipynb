{
 "cells": [
  {
   "cell_type": "markdown",
   "source": [
    "## 序列比对"
   ],
   "metadata": {}
  },
  {
   "cell_type": "code",
   "execution_count": 2,
   "source": [
    "import pandas as pd\n"
   ],
   "outputs": [],
   "metadata": {}
  },
  {
   "cell_type": "code",
   "execution_count": 11,
   "source": [
    "def zeros(shape):\n",
    "    retval = []\n",
    "    for x in range(shape[0]):\n",
    "        retval.append([])\n",
    "        for y in range(shape[1]):\n",
    "            retval[-1].append(0)\n",
    "    return retval\n",
    "\n",
    "match_award      = 10\n",
    "mismatch_penalty = -5\n",
    "gap_penalty      = -5 # both for opening and extanding\n",
    "\n",
    "def match_score(alpha, beta):\n",
    "    if alpha == beta:\n",
    "        return match_award\n",
    "    elif alpha == '-' or beta == '-':\n",
    "        return gap_penalty\n",
    "    else:\n",
    "        return mismatch_penalty\n",
    "\n",
    "def finalize(align1, align2):\n",
    "    align1 = align1[::-1]    #reverse sequence 1\n",
    "    align2 = align2[::-1]    #reverse sequence 2\n",
    "    \n",
    "    i,j = 0,0\n",
    "    \n",
    "    #calcuate identity, score and aligned sequeces\n",
    "    symbol = ''\n",
    "    found = 0\n",
    "    score = 0\n",
    "    identity = 0\n",
    "    for i in range(0,len(align1)):\n",
    "        # if two AAs are the same, then output the letter\n",
    "        if align1[i] == align2[i]:                \n",
    "            symbol = symbol + align1[i]\n",
    "            identity = identity + 1\n",
    "            score += match_score(align1[i], align2[i])\n",
    "    \n",
    "        # if they are not identical and none of them is gap\n",
    "        elif align1[i] != align2[i] and align1[i] != '-' and align2[i] != '-': \n",
    "            score += match_score(align1[i], align2[i])\n",
    "            symbol += ' '\n",
    "            found = 0\n",
    "    \n",
    "        #if one of them is a gap, output a space\n",
    "        elif align1[i] == '-' or align2[i] == '-':          \n",
    "            symbol += ' '\n",
    "            score += gap_penalty\n",
    "    \n",
    "    identity = float(identity) / len(align1) * 100\n",
    "    \n",
    "    print ('Identity =', \"%3.3f\" % identity, 'percent')\n",
    "    print ('Score =', score)\n",
    "    print (align1)\n",
    "    print (symbol)\n",
    "    print (align2)\n",
    "\n",
    "\n",
    "def needle(seq1, seq2):\n",
    "    m, n = len(seq1), len(seq2)  # length of two sequences\n",
    "    \n",
    "    # Generate DP table and traceback path pointer matrix\n",
    "    score = zeros((m+1, n+1))      # the DP table\n",
    "   \n",
    "    # Calculate DP table\n",
    "    for i in range(0, m + 1):\n",
    "        score[i][0] = gap_penalty * i\n",
    "    for j in range(0, n + 1):\n",
    "        score[0][j] = gap_penalty * j\n",
    "    print(score)\n",
    "    for i in range(1, m + 1):\n",
    "        for j in range(1, n + 1):\n",
    "            match = score[i - 1][j - 1] + match_score(seq1[i-1], seq2[j-1])\n",
    "            delete = score[i - 1][j] + gap_penalty\n",
    "            insert = score[i][j - 1] + gap_penalty\n",
    "            score[i][j] = max(match, delete, insert)\n",
    "\n",
    "    # Traceback and compute the alignment \n",
    "    align1, align2 = '', ''\n",
    "    i,j = m,n # start from the bottom right cell\n",
    "    while i > 0 and j > 0: # end toching the top or the left edge\n",
    "        score_current = score[i][j]\n",
    "        score_diagonal = score[i-1][j-1]\n",
    "        score_up = score[i][j-1]\n",
    "        score_left = score[i-1][j]\n",
    "\n",
    "        if score_current == score_diagonal + match_score(seq1[i-1], seq2[j-1]):\n",
    "            align1 += seq1[i-1]\n",
    "            align2 += seq2[j-1]\n",
    "            i -= 1\n",
    "            j -= 1\n",
    "        elif score_current == score_left + gap_penalty:\n",
    "            align1 += seq1[i-1]\n",
    "            align2 += '-'\n",
    "            i -= 1\n",
    "        elif score_current == score_up + gap_penalty:\n",
    "            align1 += '-'\n",
    "            align2 += seq2[j-1]\n",
    "            j -= 1\n",
    "\n",
    "    # Finish tracing up to the top left cell\n",
    "    while i > 0:\n",
    "        align1 += seq1[i-1]\n",
    "        align2 += '-'\n",
    "        i -= 1\n",
    "    while j > 0:\n",
    "        align1 += '-'\n",
    "        align2 += seq2[j-1]\n",
    "        j -= 1\n",
    "    print('align1:',  align1)\n",
    "    print('align2: ', align2)\n",
    "\n",
    "\n",
    "\n",
    "    finalize(align1, align2)"
   ],
   "outputs": [],
   "metadata": {}
  },
  {
   "cell_type": "code",
   "execution_count": 12,
   "source": [
    "needle('ATGCAATTTT','ATCGAAT')"
   ],
   "outputs": [
    {
     "output_type": "stream",
     "name": "stdout",
     "text": [
      "[[0, -5, -10, -15, -20, -25, -30, -35], [-5, 0, 0, 0, 0, 0, 0, 0], [-10, 0, 0, 0, 0, 0, 0, 0], [-15, 0, 0, 0, 0, 0, 0, 0], [-20, 0, 0, 0, 0, 0, 0, 0], [-25, 0, 0, 0, 0, 0, 0, 0], [-30, 0, 0, 0, 0, 0, 0, 0], [-35, 0, 0, 0, 0, 0, 0, 0], [-40, 0, 0, 0, 0, 0, 0, 0], [-45, 0, 0, 0, 0, 0, 0, 0], [-50, 0, 0, 0, 0, 0, 0, 0]]\n",
      "align1: TTTTAACG-TA\n",
      "align2:  T---AA-GCTA\n",
      "Identity = 54.545 percent\n",
      "Score = 35\n",
      "AT-GCAATTTT\n",
      "AT G AA   T\n",
      "ATCG-AA---T\n"
     ]
    }
   ],
   "metadata": {}
  },
  {
   "cell_type": "code",
   "execution_count": 24,
   "source": [
    "import pandas as pd\n",
    "import matplotlib.pyplot as plt\n",
    "import seaborn as sns"
   ],
   "outputs": [],
   "metadata": {}
  },
  {
   "cell_type": "code",
   "execution_count": 18,
   "source": [
    "df = pd.read_csv('./test/mse.csv')\n",
    "#!pwd"
   ],
   "outputs": [],
   "metadata": {}
  },
  {
   "cell_type": "code",
   "execution_count": 20,
   "source": [
    "df"
   ],
   "outputs": [
    {
     "output_type": "execute_result",
     "data": {
      "text/plain": [
       "     Unnamed: 0         0\n",
       "0             0 -0.133479\n",
       "1             1 -0.126443\n",
       "2             2 -0.145287\n",
       "3             3 -0.104104\n",
       "4             4 -0.260401\n",
       "..          ...       ...\n",
       "130         130 -0.281668\n",
       "131         131 -0.344894\n",
       "132         132 -0.789272\n",
       "133         133 -0.521127\n",
       "134         134 -0.151297\n",
       "\n",
       "[135 rows x 2 columns]"
      ],
      "text/html": [
       "<div>\n",
       "<style scoped>\n",
       "    .dataframe tbody tr th:only-of-type {\n",
       "        vertical-align: middle;\n",
       "    }\n",
       "\n",
       "    .dataframe tbody tr th {\n",
       "        vertical-align: top;\n",
       "    }\n",
       "\n",
       "    .dataframe thead th {\n",
       "        text-align: right;\n",
       "    }\n",
       "</style>\n",
       "<table border=\"1\" class=\"dataframe\">\n",
       "  <thead>\n",
       "    <tr style=\"text-align: right;\">\n",
       "      <th></th>\n",
       "      <th>Unnamed: 0</th>\n",
       "      <th>0</th>\n",
       "    </tr>\n",
       "  </thead>\n",
       "  <tbody>\n",
       "    <tr>\n",
       "      <th>0</th>\n",
       "      <td>0</td>\n",
       "      <td>-0.133479</td>\n",
       "    </tr>\n",
       "    <tr>\n",
       "      <th>1</th>\n",
       "      <td>1</td>\n",
       "      <td>-0.126443</td>\n",
       "    </tr>\n",
       "    <tr>\n",
       "      <th>2</th>\n",
       "      <td>2</td>\n",
       "      <td>-0.145287</td>\n",
       "    </tr>\n",
       "    <tr>\n",
       "      <th>3</th>\n",
       "      <td>3</td>\n",
       "      <td>-0.104104</td>\n",
       "    </tr>\n",
       "    <tr>\n",
       "      <th>4</th>\n",
       "      <td>4</td>\n",
       "      <td>-0.260401</td>\n",
       "    </tr>\n",
       "    <tr>\n",
       "      <th>...</th>\n",
       "      <td>...</td>\n",
       "      <td>...</td>\n",
       "    </tr>\n",
       "    <tr>\n",
       "      <th>130</th>\n",
       "      <td>130</td>\n",
       "      <td>-0.281668</td>\n",
       "    </tr>\n",
       "    <tr>\n",
       "      <th>131</th>\n",
       "      <td>131</td>\n",
       "      <td>-0.344894</td>\n",
       "    </tr>\n",
       "    <tr>\n",
       "      <th>132</th>\n",
       "      <td>132</td>\n",
       "      <td>-0.789272</td>\n",
       "    </tr>\n",
       "    <tr>\n",
       "      <th>133</th>\n",
       "      <td>133</td>\n",
       "      <td>-0.521127</td>\n",
       "    </tr>\n",
       "    <tr>\n",
       "      <th>134</th>\n",
       "      <td>134</td>\n",
       "      <td>-0.151297</td>\n",
       "    </tr>\n",
       "  </tbody>\n",
       "</table>\n",
       "<p>135 rows × 2 columns</p>\n",
       "</div>"
      ]
     },
     "metadata": {},
     "execution_count": 20
    }
   ],
   "metadata": {}
  },
  {
   "cell_type": "code",
   "execution_count": 25,
   "source": [
    "sns.distplot(df['0'])"
   ],
   "outputs": [
    {
     "output_type": "execute_result",
     "data": {
      "text/plain": [
       "<AxesSubplot:xlabel='0'>"
      ]
     },
     "metadata": {},
     "execution_count": 25
    },
    {
     "output_type": "display_data",
     "data": {
      "text/plain": [
       "<Figure size 432x288 with 1 Axes>"
      ],
      "image/png": "[encoded data removed]"
     },
     "metadata": {
      "needs_background": "light"
     }
    }
   ],
   "metadata": {}
  },
  {
   "cell_type": "code",
   "execution_count": 47,
   "source": [
    "import matplotlib.pyplot as plt\n",
    "from matplotlib.patches import Arc, RegularPolygon\n",
    "import numpy as np\n",
    "from numpy import radians as rad\n",
    "\n",
    "fig = plt.figure(figsize=(9,9))\n",
    "ax = plt.gca()\n",
    "def drawCirc(ax,radius,centX,centY,angle_,theta2_,color_='black'):\n",
    "    #========Line\n",
    "    arc = Arc([centX,centY],radius,radius,angle=angle_,\n",
    "          theta1=0,theta2=theta2_,capstyle='round',linestyle='-',lw=10,color=color_)\n",
    "    ax.add_patch(arc)\n",
    "\n",
    "\n",
    "    #========Create the arrow head\n",
    "    #endX=centX+(radius/2)*np.cos(rad(theta2_+angle_)) #Do trig to determine end position\n",
    "    #endY=centY+(radius/2)*np.sin(rad(theta2_+angle_))\n",
    "    endX = 1\n",
    "    endY = 0.5\n",
    "    ax.add_patch(                    #Create triangle as arrow head\n",
    "        RegularPolygon(\n",
    "            (endX, endY),            # (x,y)\n",
    "            3,                       # number of vertices\n",
    "            radius/9,                # radius\n",
    "            rad(30+180),     # orientation\n",
    "            color=color_\n",
    "        )\n",
    "    )\n",
    "    ax.set_xlim([centX-radius,centY+radius]) and ax.set_ylim([centY-radius,centY+radius]) \n",
    "    # Make sure you keep the axes scaled or else arrow will distort\n",
    "\n",
    "drawCirc(ax,1,1,1,270,180)\n",
    "drawCirc(ax,2,1,1,0,330,color_='blue')\n",
    "#drawCirc(ax,1,1,1,135,360)\n",
    "plt.show()    \n"
   ],
   "outputs": [
    {
     "output_type": "display_data",
     "data": {
      "text/plain": [
       "<Figure size 648x648 with 1 Axes>"
      ],
      "image/png": "[encoded data removed]"
     },
     "metadata": {
      "needs_background": "light"
     }
    }
   ],
   "metadata": {}
  },
  {
   "cell_type": "code",
   "execution_count": null,
   "source": [],
   "outputs": [],
   "metadata": {}
  }
 ],
 "metadata": {
  "orig_nbformat": 4,
  "kernelspec": {
   "name": "python3",
   "display_name": "Python 3",
   "language": "python"
  },
  "language_info": {
   "name": "python",
   "version": "3.7.6",
   "mimetype": "text/x-python",
   "codemirror_mode": {
    "name": "ipython",
    "version": 3
   },
   "pygments_lexer": "ipython3",
   "nbconvert_exporter": "python",
   "file_extension": ".py"
  }
 },
 "nbformat": 4,
 "nbformat_minor": 2
}